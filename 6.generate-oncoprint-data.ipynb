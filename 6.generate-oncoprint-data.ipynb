{
 "cells": [
  {
   "cell_type": "markdown",
   "metadata": {},
   "source": [
    "# Generating OncoPrint Data Files\n",
    "\n",
    "The script will process all variant files and output files in an ingestible format for the R OncoPrint function.\n",
    "\n",
    "It will output oncoprint data for both replicate files and the merged variant callsets."
   ]
  },
  {
   "cell_type": "code",
   "execution_count": 1,
   "metadata": {},
   "outputs": [],
   "source": [
    "import os\n",
    "import pandas as pd"
   ]
  },
  {
   "cell_type": "code",
   "execution_count": 2,
   "metadata": {},
   "outputs": [
    {
     "data": {
      "text/plain": [
       "NCOR2                38\n",
       "OR11G2               29\n",
       "KRAS                 29\n",
       "MUC4;MUC4            28\n",
       "DNHD1                27\n",
       "TSPYL1               25\n",
       "CBWD1                25\n",
       "ARHGEF11;ETV3L       24\n",
       "MARF1                24\n",
       "WDR66                24\n",
       "PHF2                 23\n",
       "LCE4A                23\n",
       "GOLGA8M              22\n",
       "GOLGA6D              22\n",
       "POTEI                21\n",
       "ACIN1                21\n",
       "KRTAP5-11;FAM86C1    21\n",
       "BRCA1                20\n",
       "CGB8                 20\n",
       "MROH8;MROH8          19\n",
       "Name: Gene.refGene, dtype: int64"
      ]
     },
     "execution_count": 2,
     "metadata": {},
     "output_type": "execute_result"
    }
   ],
   "source": [
    "# Load all cosmic variants called in this dataset\n",
    "# This file was generated in filter_variants.ipynb\n",
    "cosmic_all_file = os.path.join('results', 'all_cosmic_variants.tsv')\n",
    "cosmic_all_df = pd.read_table(cosmic_all_file)\n",
    "\n",
    "# What are the 50 most commonly altered COSMIC genes?\n",
    "top_n = 50\n",
    "paad_genes = cosmic_all_df['Gene.refGene'].value_counts().head(top_n).index.tolist()\n",
    "\n",
    "# Add in ATM and RNF43 (see https://github.com/greenelab/pdx_exomeseq/issues/68)\n",
    "paad_genes += ['ATM', 'RNF43']\n",
    "\n",
    "cosmic_all_df['Gene.refGene'].value_counts().head(20)"
   ]
  },
  {
   "cell_type": "markdown",
   "metadata": {},
   "source": [
    "### Define Functions for Oncoprint Data Processing"
   ]
  },
  {
   "cell_type": "code",
   "execution_count": 3,
   "metadata": {},
   "outputs": [],
   "source": [
    "def process_variants(variant_dir, focus_variants, strip_text, process_cosmic=False,\n",
    "                     id_updater=None):\n",
    "    \"\"\"\n",
    "    Retrieve VCF files from an input directory and determine membership\n",
    "    \n",
    "    Arguments:\n",
    "    variant_dir - the directory to search for variant files to load\n",
    "    focus_variants - a list of genes or variants to search for in samples\n",
    "    strip_text - a string of text to strip from variant files\n",
    "    process_cosmic - boolean to determine if cosmic variants are to be processed\n",
    "    id_updater - a dictionary of sample ID mappings (defaults to None)\n",
    "    \n",
    "    Output:\n",
    "    A dataframe that is ready for input into oncoprint function\n",
    "    \"\"\"\n",
    "\n",
    "    variant_assign = []\n",
    "    case_ids = []\n",
    "    for variant_file in os.listdir(variant_dir):\n",
    "        # Load and subset file to only variants in the COSMIC db\n",
    "        variant_df = pd.read_table(os.path.join(variant_dir, variant_file), index_col=0)\n",
    "        variant_sub_df = variant_df[variant_df['cosmic70'] != '.']\n",
    "\n",
    "        # Define mutated genes or variants if they exist for the given sample\n",
    "        if process_cosmic:\n",
    "            variant_class = [1 if x in variant_sub_df['cosmic70'].tolist() else 0\n",
    "                             for x in focus_variants]\n",
    "        else:\n",
    "            variant_class = ['MUT;' if x in variant_sub_df['Gene.refGene'].tolist() else ''\n",
    "                             for x in focus_variants]\n",
    "\n",
    "        # Store results\n",
    "        sample_id = variant_file.replace(strip_text, '')\n",
    "        variant_assign.append(variant_class)\n",
    "        if id_updater is not None:\n",
    "            sample_id = variant_file.replace(variant_file.split('_')[0],\n",
    "                                             id_updater[variant_file.split('_')[0]])\n",
    "        case_ids.append(sample_id)\n",
    "    \n",
    "    # Process output variants\n",
    "    output_df = pd.DataFrame(variant_assign,\n",
    "                             index=case_ids,\n",
    "                             columns=focus_variants).sort_index()\n",
    "    output_df.index.name = 'Case.ID'\n",
    "\n",
    "    return output_df"
   ]
  },
  {
   "cell_type": "markdown",
   "metadata": {},
   "source": [
    "## Generate OncoPrint Data\n",
    "\n",
    "### For All Replicates"
   ]
  },
  {
   "cell_type": "code",
   "execution_count": 4,
   "metadata": {},
   "outputs": [],
   "source": [
    "# Process each replicate by observed COSMIC mutation\n",
    "replicate_file_path = os.path.join('results', 'processed_vcfs')\n",
    "replicate_strip_text = '_001_processed_variants.tsv.bz2'\n",
    "\n",
    "replicate_oncoprint_df = process_variants(variant_dir=replicate_file_path,\n",
    "                                          focus_variants=paad_genes,\n",
    "                                          strip_text=replicate_strip_text,\n",
    "                                          process_cosmic=False,\n",
    "                                          id_updater=None)\n",
    "\n",
    "# Output file\n",
    "replicate_output_file = os.path.join('results', 'oncoprint_replicates.tsv')\n",
    "replicate_oncoprint_df.to_csv(replicate_output_file, sep='\\t')"
   ]
  },
  {
   "cell_type": "markdown",
   "metadata": {},
   "source": [
    "### For Merged Samples"
   ]
  },
  {
   "cell_type": "code",
   "execution_count": 5,
   "metadata": {},
   "outputs": [
    {
     "name": "stderr",
     "output_type": "stream",
     "text": [
      "/home/gway/anaconda3/envs/pdx-exomeseq-analysis/lib/python3.6/site-packages/IPython/core/interactiveshell.py:2901: DtypeWarning: Columns (1) have mixed types. Specify dtype option on import or set low_memory=False.\n",
      "  if self.run_code(code, result):\n"
     ]
    }
   ],
   "source": [
    "# Process each replicate by observed COSMIC mutation\n",
    "merged_file_path = os.path.join('results', 'processed_merged_vcfs')\n",
    "merged_strip_text = '_processed_variants.tsv.bz2'\n",
    "\n",
    "merged_oncoprint_df = process_variants(variant_dir=merged_file_path,\n",
    "                                       focus_variants=paad_genes,\n",
    "                                       strip_text=merged_strip_text,\n",
    "                                       process_cosmic=False,\n",
    "                                       id_updater=None)\n",
    "\n",
    "# Output file\n",
    "merged_output_file = os.path.join('results', 'oncoprint_merged.tsv')\n",
    "merged_oncoprint_df.to_csv(merged_output_file, sep='\\t')"
   ]
  },
  {
   "cell_type": "markdown",
   "metadata": {},
   "source": [
    "## COSMIC Mutational Similarity\n",
    "\n",
    "Output mutational similarity data for all replicates and consensus samples.\n",
    "The COSMIC mutational similarity is built from a (0,1) sample by COSMIC mutation matrix."
   ]
  },
  {
   "cell_type": "code",
   "execution_count": 6,
   "metadata": {},
   "outputs": [
    {
     "name": "stdout",
     "output_type": "stream",
     "text": [
      "All COSMIC mutations: 3116\n",
      "Unique COSMIC mutations: 1113\n"
     ]
    }
   ],
   "source": [
    "# How many COSMIC mutation IDs are in the entire set and how many are unique?\n",
    "print('All COSMIC mutations: {}'.format(cosmic_all_df.shape[0]))\n",
    "unique_cosmic_ids = set(cosmic_all_df['cosmic70'])\n",
    "print('Unique COSMIC mutations: {}'.format(len(unique_cosmic_ids)))"
   ]
  },
  {
   "cell_type": "markdown",
   "metadata": {},
   "source": [
    "### For All Replicates"
   ]
  },
  {
   "cell_type": "code",
   "execution_count": 7,
   "metadata": {},
   "outputs": [],
   "source": [
    "# Obtain replicate cosmic similarity matrix\n",
    "replicate_cosmic_df = process_variants(variant_dir=replicate_file_path,\n",
    "                                       focus_variants=unique_cosmic_ids,\n",
    "                                       strip_text=replicate_strip_text,\n",
    "                                       process_cosmic=True,\n",
    "                                       id_updater=None)\n",
    "\n",
    "replicate_common_file = os.path.join('results', 'cosmic_similarity_replicates.tsv')\n",
    "replicate_cosmic_df.to_csv(replicate_common_file, sep='\\t')"
   ]
  },
  {
   "cell_type": "markdown",
   "metadata": {},
   "source": [
    "### Consensus samples"
   ]
  },
  {
   "cell_type": "code",
   "execution_count": 8,
   "metadata": {},
   "outputs": [
    {
     "name": "stderr",
     "output_type": "stream",
     "text": [
      "/home/gway/anaconda3/envs/pdx-exomeseq-analysis/lib/python3.6/site-packages/IPython/core/interactiveshell.py:2901: DtypeWarning: Columns (1) have mixed types. Specify dtype option on import or set low_memory=False.\n",
      "  if self.run_code(code, result):\n"
     ]
    }
   ],
   "source": [
    "# Obtain consensus cosmic similarity matrix\n",
    "merged_cosmic_df = process_variants(variant_dir=merged_file_path,\n",
    "                                    focus_variants=unique_cosmic_ids,\n",
    "                                    strip_text=merged_strip_text,\n",
    "                                    process_cosmic=True,\n",
    "                                    id_updater=None)\n",
    "\n",
    "merged_common_file = os.path.join('results', 'cosmic_similarity_merged.tsv')\n",
    "merged_cosmic_df.to_csv(merged_common_file, sep='\\t')"
   ]
  },
  {
   "cell_type": "markdown",
   "metadata": {},
   "source": [
    "## What about prefiltered variants (i.e. before COSMIC filtering)\n",
    "\n",
    "Observed merged samples with cosmic similarity only"
   ]
  },
  {
   "cell_type": "code",
   "execution_count": 9,
   "metadata": {},
   "outputs": [
    {
     "name": "stderr",
     "output_type": "stream",
     "text": [
      "/home/gway/anaconda3/envs/pdx-exomeseq-analysis/lib/python3.6/site-packages/IPython/core/interactiveshell.py:2785: DtypeWarning: Columns (0) have mixed types. Specify dtype option on import or set low_memory=False.\n",
      "  interactivity=interactivity, compiler=compiler, result=result)\n"
     ]
    },
    {
     "data": {
      "text/html": [
       "<div>\n",
       "<style scoped>\n",
       "    .dataframe tbody tr th:only-of-type {\n",
       "        vertical-align: middle;\n",
       "    }\n",
       "\n",
       "    .dataframe tbody tr th {\n",
       "        vertical-align: top;\n",
       "    }\n",
       "\n",
       "    .dataframe thead th {\n",
       "        text-align: right;\n",
       "    }\n",
       "</style>\n",
       "<table border=\"1\" class=\"dataframe\">\n",
       "  <thead>\n",
       "    <tr style=\"text-align: right;\">\n",
       "      <th></th>\n",
       "      <th>Chr</th>\n",
       "      <th>Start</th>\n",
       "      <th>End</th>\n",
       "      <th>Ref</th>\n",
       "      <th>Alt</th>\n",
       "      <th>Func.refGene</th>\n",
       "      <th>Gene.refGene</th>\n",
       "      <th>GeneDetail.refGene</th>\n",
       "      <th>ExonicFunc.refGene</th>\n",
       "      <th>AAChange.refGene</th>\n",
       "      <th>...</th>\n",
       "      <th>phyloP20way_mammalian</th>\n",
       "      <th>phastCons7way_vertebrate</th>\n",
       "      <th>phastCons20way_mammalian</th>\n",
       "      <th>SiPhy_29way_logOdds</th>\n",
       "      <th>Otherinfo</th>\n",
       "      <th>sample_name</th>\n",
       "      <th>final_id</th>\n",
       "      <th>het</th>\n",
       "      <th>quality</th>\n",
       "      <th>depth</th>\n",
       "    </tr>\n",
       "  </thead>\n",
       "  <tbody>\n",
       "    <tr>\n",
       "      <th>0</th>\n",
       "      <td>1</td>\n",
       "      <td>17379</td>\n",
       "      <td>17379</td>\n",
       "      <td>G</td>\n",
       "      <td>A</td>\n",
       "      <td>ncRNA_exonic</td>\n",
       "      <td>MIR6859-1;MIR6859-2;MIR6859-3;MIR6859-4</td>\n",
       "      <td>.</td>\n",
       "      <td>.</td>\n",
       "      <td>.</td>\n",
       "      <td>...</td>\n",
       "      <td>.</td>\n",
       "      <td>.</td>\n",
       "      <td>.</td>\n",
       "      <td>.</td>\n",
       "      <td>het\\t.\\t34</td>\n",
       "      <td>019-F0</td>\n",
       "      <td>008-M2-F0</td>\n",
       "      <td>het</td>\n",
       "      <td>.</td>\n",
       "      <td>34</td>\n",
       "    </tr>\n",
       "    <tr>\n",
       "      <th>1</th>\n",
       "      <td>1</td>\n",
       "      <td>139058</td>\n",
       "      <td>139058</td>\n",
       "      <td>C</td>\n",
       "      <td>G</td>\n",
       "      <td>ncRNA_exonic</td>\n",
       "      <td>LOC729737</td>\n",
       "      <td>.</td>\n",
       "      <td>.</td>\n",
       "      <td>.</td>\n",
       "      <td>...</td>\n",
       "      <td>.</td>\n",
       "      <td>.</td>\n",
       "      <td>.</td>\n",
       "      <td>.</td>\n",
       "      <td>het\\t.\\t125</td>\n",
       "      <td>019-F0</td>\n",
       "      <td>008-M2-F0</td>\n",
       "      <td>het</td>\n",
       "      <td>.</td>\n",
       "      <td>125</td>\n",
       "    </tr>\n",
       "    <tr>\n",
       "      <th>2</th>\n",
       "      <td>1</td>\n",
       "      <td>874779</td>\n",
       "      <td>874826</td>\n",
       "      <td>CCTCCCCAGCCACGGTGAGGACCCACCCTGGCATGATCCCCCTCATCA</td>\n",
       "      <td>-</td>\n",
       "      <td>exonic</td>\n",
       "      <td>SAMD11</td>\n",
       "      <td>.</td>\n",
       "      <td>nonframeshift deletion</td>\n",
       "      <td>SAMD11:NM_152486:exon7:c.645_692del:p.G220Dfs*447</td>\n",
       "      <td>...</td>\n",
       "      <td>.</td>\n",
       "      <td>.</td>\n",
       "      <td>.</td>\n",
       "      <td>.</td>\n",
       "      <td>het\\t.\\t20</td>\n",
       "      <td>019-F0</td>\n",
       "      <td>008-M2-F0</td>\n",
       "      <td>het</td>\n",
       "      <td>.</td>\n",
       "      <td>20</td>\n",
       "    </tr>\n",
       "  </tbody>\n",
       "</table>\n",
       "<p>3 rows × 60 columns</p>\n",
       "</div>"
      ],
      "text/plain": [
       "  Chr   Start     End                                               Ref Alt  \\\n",
       "0   1   17379   17379                                                 G   A   \n",
       "1   1  139058  139058                                                 C   G   \n",
       "2   1  874779  874826  CCTCCCCAGCCACGGTGAGGACCCACCCTGGCATGATCCCCCTCATCA   -   \n",
       "\n",
       "   Func.refGene                             Gene.refGene GeneDetail.refGene  \\\n",
       "0  ncRNA_exonic  MIR6859-1;MIR6859-2;MIR6859-3;MIR6859-4                  .   \n",
       "1  ncRNA_exonic                                LOC729737                  .   \n",
       "2        exonic                                   SAMD11                  .   \n",
       "\n",
       "       ExonicFunc.refGene                                   AAChange.refGene  \\\n",
       "0                       .                                                  .   \n",
       "1                       .                                                  .   \n",
       "2  nonframeshift deletion  SAMD11:NM_152486:exon7:c.645_692del:p.G220Dfs*447   \n",
       "\n",
       "   ...  phyloP20way_mammalian phastCons7way_vertebrate  \\\n",
       "0  ...                      .                        .   \n",
       "1  ...                      .                        .   \n",
       "2  ...                      .                        .   \n",
       "\n",
       "  phastCons20way_mammalian SiPhy_29way_logOdds    Otherinfo sample_name  \\\n",
       "0                        .                   .   het\\t.\\t34      019-F0   \n",
       "1                        .                   .  het\\t.\\t125      019-F0   \n",
       "2                        .                   .   het\\t.\\t20      019-F0   \n",
       "\n",
       "    final_id  het quality depth  \n",
       "0  008-M2-F0  het       .    34  \n",
       "1  008-M2-F0  het       .   125  \n",
       "2  008-M2-F0  het       .    20  \n",
       "\n",
       "[3 rows x 60 columns]"
      ]
     },
     "execution_count": 9,
     "metadata": {},
     "output_type": "execute_result"
    }
   ],
   "source": [
    "# Load all prefiltered cosmic variants called in this dataset\n",
    "# This file was generated in filter_variants.ipynb\n",
    "file = os.path.join('results', 'all_cosmic_prefiltered_variants.tsv')\n",
    "cosmic_prefiltered_df = pd.read_table(file)\n",
    "cosmic_prefiltered_df.head(3)"
   ]
  },
  {
   "cell_type": "code",
   "execution_count": 10,
   "metadata": {},
   "outputs": [
    {
     "data": {
      "text/plain": [
       "NONE;NONE                4005\n",
       "NBPF25P                   782\n",
       "DNAH5                     748\n",
       "OR4E1;LINC02332           710\n",
       "SYNE2                     612\n",
       "RYR2                      575\n",
       "PIKFYVE                   566\n",
       "CNTNAP3P2;XLOC_007697     537\n",
       "CUBN                      511\n",
       "TG                        507\n",
       "MIR1268A                  491\n",
       "OR4A47;TRIM49B            489\n",
       "TTN                       487\n",
       "CSMD3                     476\n",
       "LOC390705;ENPP7P13        473\n",
       "LOC440040;OR4C13          468\n",
       "LRRK2                     466\n",
       "SYNE1                     462\n",
       "NBPF1                     448\n",
       "HMCN1                     447\n",
       "Name: Gene.refGene, dtype: int64"
      ]
     },
     "execution_count": 10,
     "metadata": {},
     "output_type": "execute_result"
    }
   ],
   "source": [
    "paad_prefiltered_genes = cosmic_prefiltered_df['Gene.refGene'].value_counts().head(top_n).index.tolist()\n",
    "cosmic_prefiltered_df['Gene.refGene'].value_counts().head(20)"
   ]
  },
  {
   "cell_type": "code",
   "execution_count": 11,
   "metadata": {},
   "outputs": [],
   "source": [
    "# Only consider mutations that change amino acid sequence\n",
    "cosmic_prefiltered_df = cosmic_prefiltered_df[cosmic_prefiltered_df['AAChange.refGene'] != '.']"
   ]
  },
  {
   "cell_type": "code",
   "execution_count": 12,
   "metadata": {},
   "outputs": [
    {
     "name": "stdout",
     "output_type": "stream",
     "text": [
      "All prefiltered COSMIC mutations: 54841\n",
      "Unique nonsilent mutations: 28744\n"
     ]
    }
   ],
   "source": [
    "# How many prefiltered COSMIC mutation IDs are in the entire set and how many are unique?\n",
    "print('All prefiltered COSMIC mutations: {}'.format(cosmic_prefiltered_df.shape[0]))\n",
    "unique_mutations = set(cosmic_prefiltered_df['AAChange.refGene'])\n",
    "print('Unique nonsilent mutations: {}'.format(len(unique_mutations)))"
   ]
  },
  {
   "cell_type": "code",
   "execution_count": 13,
   "metadata": {},
   "outputs": [],
   "source": [
    "case_id_consensus = []\n",
    "cosmic_similarity_consensus_list = []\n",
    "for sample_id in set(cosmic_prefiltered_df['final_id']):\n",
    "    # Subset file to given sample ID\n",
    "    variant_sub_df = cosmic_prefiltered_df.query('final_id == @sample_id')\n",
    "    \n",
    "    # Define membership in COSMIC IDs\n",
    "    cosmic_class = [1 if x in variant_sub_df['AAChange.refGene'].tolist() else 0\n",
    "                    for x in unique_mutations]\n",
    "    \n",
    "    # Store results\n",
    "    cosmic_similarity_consensus_list.append(cosmic_class)\n",
    "    case_id_consensus.append(sample_id)"
   ]
  },
  {
   "cell_type": "code",
   "execution_count": 14,
   "metadata": {},
   "outputs": [],
   "source": [
    "common_cosmic_consensus_file = os.path.join('results', 'cosmic_prefiltered_similarity_merged.tsv')\n",
    "cosmic_common_consensus_df = pd.DataFrame(cosmic_similarity_consensus_list,\n",
    "                                          index=case_id_consensus,\n",
    "                                          columns=unique_mutations)\n",
    "cosmic_common_consensus_df.index.name = 'Case.ID'\n",
    "cosmic_common_consensus_df.to_csv(common_cosmic_consensus_file, sep='\\t')"
   ]
  }
 ],
 "metadata": {
  "kernelspec": {
   "display_name": "Python [conda env:pdx-exomeseq-analysis]",
   "language": "python",
   "name": "conda-env-pdx-exomeseq-analysis-py"
  },
  "language_info": {
   "codemirror_mode": {
    "name": "ipython",
    "version": 3
   },
   "file_extension": ".py",
   "mimetype": "text/x-python",
   "name": "python",
   "nbconvert_exporter": "python",
   "pygments_lexer": "ipython3",
   "version": "3.6.6"
  }
 },
 "nbformat": 4,
 "nbformat_minor": 2
}
