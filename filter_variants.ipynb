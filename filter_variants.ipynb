{
 "cells": [
  {
   "cell_type": "markdown",
   "metadata": {},
   "source": [
    "# Processing annotated variant files\n",
    "\n",
    "The script will process each annotated variant file and output the processed file along with several summary statistics. The summary statistics include read depth summary, filtration summary, and functional location and effect of called variants.\n",
    "\n",
    "The pipeline is run once for all replcates and then again, with different filtering criteria, for the concatenated variant files."
   ]
  },
  {
   "cell_type": "code",
   "execution_count": 1,
   "metadata": {
    "collapsed": false
   },
   "outputs": [
    {
     "name": "stderr",
     "output_type": "stream",
     "text": [
      "/home/gway/anaconda3/lib/python3.5/site-packages/statsmodels/compat/pandas.py:56: FutureWarning: The pandas.core.datetools module is deprecated and will be removed in a future version. Please use the pandas.tseries module instead.\n",
      "  from pandas.core import datetools\n"
     ]
    }
   ],
   "source": [
    "import os\n",
    "import numpy as np\n",
    "import pandas as pd\n",
    "from pandas.api.types import CategoricalDtype\n",
    "\n",
    "import matplotlib.pyplot as plt\n",
    "import seaborn as sns\n",
    "import plotnine as gg"
   ]
  },
  {
   "cell_type": "code",
   "execution_count": 2,
   "metadata": {
    "collapsed": true
   },
   "outputs": [],
   "source": [
    "%matplotlib inline\n",
    "plt.style.use('seaborn-notebook')"
   ]
  },
  {
   "cell_type": "code",
   "execution_count": 3,
   "metadata": {
    "collapsed": false
   },
   "outputs": [],
   "source": [
    "class process_variants():\n",
    "    \"\"\"\n",
    "    Process summary statistics and filter variants for input file\n",
    "    \n",
    "    Usage:\n",
    "            variant_object = process_variants(<filename>)\n",
    "\n",
    "    Methods act on annotated variant dataframes\n",
    "    \n",
    "    Filter variants based on low and high read depth and minor allele frequency\n",
    "    Also output summary files including the functional location distribution (e.g. exon),\n",
    "    the read depth summary, and mutation classification (e.g. frameshift)\n",
    "    \"\"\"\n",
    "    \n",
    "    def __init__(self, variant_file, filter_min_depth=10, filter_max_depth=800,\n",
    "                 filter_common_maf=0.05):\n",
    "        \"\"\"\n",
    "        Initialize process_variants() class\n",
    "        \n",
    "        Arguments:\n",
    "        variant_file - location of a variant file\n",
    "        filter_min_depth - in processed file output, remove all variants with depth below\n",
    "        filter_max_depth - in processed file output, remove all variants with depth above\n",
    "        filter_common_maf - in processed file output, remove all variants with MAF above\n",
    "        \"\"\"\n",
    "        self.variant_file = variant_file\n",
    "        self.sample_name = os.path.basename(self.variant_file).split('.')[0]\n",
    "        self.filter_min_depth = filter_min_depth\n",
    "        self.filter_max_depth = filter_max_depth\n",
    "        self.filter_common_maf = filter_common_maf\n",
    "        self.variant_df = pd.read_csv(self.variant_file)\n",
    "        self.all_variant_count = self.variant_df.shape[0]\n",
    "        \n",
    "    def _process_depth(self):\n",
    "        \"\"\"\n",
    "        Private method to extract read depth from each variant\n",
    "        \"\"\"\n",
    "        other_info_list = self.variant_df['Otherinfo'].str.split('\\t').tolist()\n",
    "        depth_info_df = pd.DataFrame(other_info_list, columns=['het', 'quality', 'depth'])\n",
    "        self.variant_df.index = depth_info_df.index\n",
    "        self.variant_df = pd.concat([self.variant_df, depth_info_df], axis=1)\n",
    "    \n",
    "    def filter_depth(self):\n",
    "        \"\"\"\n",
    "        Method to remove variants with low and high depth beyond initialized threshold\n",
    "\n",
    "        Also stores the resulting variant file following the specific filtration step\n",
    "        \"\"\"\n",
    "        # Filter min depth\n",
    "        self._process_depth()\n",
    "        self.variant_df = (\n",
    "            self.variant_df[self.variant_df['depth'].astype(int) >= self.filter_min_depth]\n",
    "            )\n",
    "        self.filter_min_depth_count = self.variant_df.shape[0]\n",
    "        \n",
    "        # Filter max depth\n",
    "        self.variant_df = (\n",
    "            self.variant_df[self.variant_df['depth'].astype(int) <= self.filter_max_depth]\n",
    "            )\n",
    "        self.filter_max_depth_count = self.variant_df.shape[0]\n",
    "        \n",
    "    def filter_common_variation(self):\n",
    "        \"\"\"\n",
    "        Method to remove common variants based on minor allele frequency.\n",
    "\n",
    "        First separates the variant file between known and unknown MAF,then removes variants\n",
    "        that are greater than the theshold MAF. The final variant file includes variants with\n",
    "        less than common MAF plus all unknown MAFs.\n",
    "        \n",
    "        Also stores the number of unknown variants and the number of common variants filtered.\n",
    "        \"\"\"\n",
    "        # Filter common variation\n",
    "        #unknown_freq_df = self.variant_df[self.variant_df['gnomAD_exome_ALL'] == '.']\n",
    "        unknown_freq_df = self.variant_df.query('gnomAD_exome_ALL == \".\"')\n",
    "        #other_freq_df = self.variant_df[self.variant_df['gnomAD_exome_ALL'] != '.']\n",
    "        other_freq_df = self.variant_df.query('gnomAD_exome_ALL != \".\"')\n",
    "        self.unknown_maf_count = unknown_freq_df.shape[0]\n",
    "       \n",
    "        # Filter common variants\n",
    "        other_freq_df = other_freq_df[other_freq_df['gnomAD_exome_ALL'].astype(float) <= filter_common_maf]\n",
    "        self.variant_df = pd.concat([other_freq_df, unknown_freq_df], axis=0)\n",
    "        self.filter_common_var_count = self.variant_df.shape[0]\n",
    "        \n",
    "    def plot_depth(self, bins=100):\n",
    "        \"\"\"\n",
    "        Method to plot a histogram of variant depths\n",
    "        \n",
    "        Arguments:\n",
    "        bins - how many bins to draw in the seaborn distplot\n",
    "        \"\"\"\n",
    "        sns.set(font_scale=1.5)\n",
    "        sns.set_style('whitegrid')\n",
    "        g = sns.distplot(self.variant_df['depth'].astype(float), bins=bins)\n",
    "        g.set_title('Read Depth Distribution for {}'.format(self.sample_name))\n",
    "    \n",
    "    def get_summary_statistics(self):\n",
    "        \"\"\"\n",
    "        Method to summarize processed variant files\n",
    "        \n",
    "        Returns functional, mutational, read depth, and cosmic counts.\n",
    "        Also stores log10 mutation count for processed variant file and file with all cosmic variants\n",
    "        \"\"\"\n",
    "        # Get log 10 total mutation count\n",
    "        self.log_mut_count = np.log10(self.variant_df.shape[0])\n",
    "\n",
    "        # Get the number of variants stratified by functional location of variant\n",
    "        # E.g. Exon, Intron, 5'UTR, etc.\n",
    "        self.functional_counts = pd.DataFrame(self.variant_df['Func.refGene'].value_counts())\n",
    "        self.functional_counts.columns = [self.sample_name]\n",
    "        \n",
    "        # Get the number of variants stratified by exonic functional outcome of variant\n",
    "        # E.g. Silent, Nonsense, Missense, etc.\n",
    "        self.mutational_class_counts = (\n",
    "            pd.DataFrame(self.variant_df['ExonicFunc.refGene'].value_counts())\n",
    "            )\n",
    "        self.mutational_class_counts.columns = [self.sample_name]\n",
    "        \n",
    "        # Get number of COSMIC curated events\n",
    "        self.cosmic_variants = self.variant_df[self.variant_df['cosmic70'] != '.']\n",
    "        self.cosmic_variants = self.cosmic_variants.assign(sample_name = self.sample_name)\n",
    "        self.cosmic_variant_counts = self.cosmic_variants.shape[0]\n",
    "        \n",
    "        # Get depth summary\n",
    "        self.depth_summary = pd.DataFrame(self.variant_df['depth'].astype(int).describe())\n",
    "        self.depth_summary.columns = [self.sample_name]\n",
    "        \n",
    "        return self.functional_counts, self.mutational_class_counts, self.depth_summary\n",
    "\n",
    "    def curate_filter_info(self):\n",
    "        \"\"\"\n",
    "        Method to extract internal processed data\n",
    "        \"\"\"\n",
    "        filter_list = [\n",
    "            self.sample_name, self.all_variant_count,\n",
    "            self.filter_min_depth_count, self.filter_max_depth_count,\n",
    "            self.filter_common_var_count, self.log_mut_count,\n",
    "            self.cosmic_variant_counts, self.unknown_maf_count\n",
    "        ]\n",
    "        return filter_list\n",
    "    \n",
    "    def output_processed_data(self, out_dir, cosmic_file=False):\n",
    "        \"\"\"\n",
    "        Method to write all processed variants to file (final variants to analyze downstream)\n",
    "        \n",
    "        Arguments:\n",
    "        outdir - directory of where the file should be written\n",
    "        cosmic_file - boolean if file written is the cosmic variants. Will not write both files\n",
    "        \"\"\"\n",
    "        if cosmic_file:\n",
    "            out_file = os.path.join(out_dir,\n",
    "                                    '{}_cosmic_variants.tsv.bz2'.format(self.sample_name))\n",
    "            self.cosmic_variants.to_csv(out_file, sep='\\t', compression='bz2')\n",
    "        else:\n",
    "            out_file = os.path.join(out_dir,\n",
    "                                    '{}_processed_variants.tsv.bz2'.format(self.sample_name))\n",
    "            self.variant_df.to_csv(out_file, sep='\\t', compression='bz2')\n",
    "        "
   ]
  },
  {
   "cell_type": "markdown",
   "metadata": {},
   "source": [
    "## Process Replicates - Four Technical Replicates per Sample"
   ]
  },
  {
   "cell_type": "code",
   "execution_count": 4,
   "metadata": {
    "collapsed": true
   },
   "outputs": [],
   "source": [
    "filter_common_maf = 0.05\n",
    "replicate_filter_min_depth_count = 10\n",
    "replicate_filter_max_depth_count = 800"
   ]
  },
  {
   "cell_type": "code",
   "execution_count": 5,
   "metadata": {
    "collapsed": false
   },
   "outputs": [
    {
     "name": "stderr",
     "output_type": "stream",
     "text": [
      "/home/gway/anaconda3/lib/python3.5/site-packages/IPython/core/interactiveshell.py:2825: DtypeWarning: Columns (0) have mixed types. Specify dtype option on import or set low_memory=False.\n",
      "  if self.run_code(code, result):\n",
      "/home/gway/anaconda3/lib/python3.5/site-packages/IPython/core/interactiveshell.py:2825: DtypeWarning: Columns (0) have mixed types. Specify dtype option on import or set low_memory=False.\n",
      "  if self.run_code(code, result):\n"
     ]
    }
   ],
   "source": [
    "# Process variant results\n",
    "variant_file_path = os.path.join('results', 'annotated_vcfs')\n",
    "processed_file_path = os.path.join('results', 'processed_vcfs')\n",
    "cosmic_file_path = os.path.join('results', 'cosmic_vcfs')\n",
    "\n",
    "filter_info_all = []\n",
    "functional_counts_all = []\n",
    "mutational_counts_all = []\n",
    "depth_summary_all = []\n",
    "\n",
    "for variant_file in os.listdir(variant_file_path):\n",
    "    full_variant_file = os.path.join(variant_file_path, variant_file)\n",
    "\n",
    "    variant_info = process_variants(full_variant_file,\n",
    "                                    filter_min_depth=replicate_filter_min_depth_count,\n",
    "                                    filter_max_depth=replicate_filter_max_depth_count,\n",
    "                                    filter_common_maf=filter_common_maf)\n",
    "\n",
    "    variant_info.filter_common_variation()\n",
    "    variant_info.filter_depth()\n",
    "\n",
    "    func_count, mut_count, depth_summary = variant_info.get_summary_statistics()\n",
    "    filter_info_all.append(variant_info.curate_filter_info())\n",
    "    \n",
    "    functional_counts_all.append(func_count)\n",
    "    mutational_counts_all.append(mut_count)\n",
    "    depth_summary_all.append(depth_summary)\n",
    "    \n",
    "    fig_file = os.path.join('figures', 'read_depth', 'replicates',\n",
    "                            '{}_depth_distrib.pdf'.format(variant_info.sample_name))\n",
    "    variant_info.plot_depth()\n",
    "    plt.savefig(fig_file)\n",
    "    plt.close()\n",
    "    \n",
    "    # Save processed output file\n",
    "    variant_info.output_processed_data(out_dir=processed_file_path)"
   ]
  },
  {
   "cell_type": "code",
   "execution_count": 6,
   "metadata": {
    "collapsed": true
   },
   "outputs": [],
   "source": [
    "# Save summary statistics for the replicate data\n",
    "\n",
    "# Save read depth summary results\n",
    "depth_output_file = os.path.join('results', 'replicates_full_depth_summary.tsv')\n",
    "depth_df = pd.concat(depth_summary_all, axis=1).fillna(0).astype(int).T.sort_index()\n",
    "depth_df.to_csv(depth_output_file, sep='\\t')\n",
    "\n",
    "# Save mutation count summary results\n",
    "mut_count_output_file = os.path.join('results', 'replicates_full_mutation_count_summary.tsv')\n",
    "mutational_counts_df = (\n",
    "    pd.concat(mutational_counts_all, axis=1).fillna(0).astype(int).T.sort_index()\n",
    "    )\n",
    "mutational_counts_df.to_csv(mut_count_output_file, sep='\\t')\n",
    "\n",
    "# Save functional genomics summary results\n",
    "func_count_output_file = os.path.join('results', 'replicates_full_functional_count_summary.tsv')\n",
    "functional_counts_df = (\n",
    "    pd.concat(functional_counts_all, axis=1).fillna(0).astype(int).T.sort_index()\n",
    "    )\n",
    "functional_counts_df.to_csv(func_count_output_file, sep='\\t')"
   ]
  },
  {
   "cell_type": "code",
   "execution_count": 7,
   "metadata": {
    "collapsed": false
   },
   "outputs": [],
   "source": [
    "# Process functional filtration summary\n",
    "filter_count_output_file = os.path.join('results', 'replicates_filter_summary.tsv')\n",
    "filter_counts_df = pd.DataFrame(filter_info_all,\n",
    "                                columns=['sample_name', 'all_variant_count',\n",
    "                                         'filter_min_depth_count', 'filter_max_depth_count',\n",
    "                                         'filter_common_var_count','log_mut_count',\n",
    "                                         'COSMIC_count', 'unknown_maf']).sort_values(by='sample_name')\n",
    "\n",
    "filter_counts_df = (\n",
    "    filter_counts_df\n",
    "    .assign(base_sample = [x[0] for x in filter_counts_df['sample_name'].str.split('_')])\n",
    "    )\n",
    "filter_counts_df = (\n",
    "    filter_counts_df\n",
    "    .assign(lane = [x[2] for x in filter_counts_df['sample_name'].str.split('_')])\n",
    "    )\n",
    "\n",
    "filter_counts_df['log_mut_count'] = round(filter_counts_df['log_mut_count'], 2)\n",
    "\n",
    "filter_counts_df.to_csv(filter_count_output_file, sep='\\t', index=False)"
   ]
  },
  {
   "cell_type": "code",
   "execution_count": 8,
   "metadata": {
    "collapsed": false
   },
   "outputs": [
    {
     "data": {
      "text/html": [
       "<div>\n",
       "<style scoped>\n",
       "    .dataframe tbody tr th:only-of-type {\n",
       "        vertical-align: middle;\n",
       "    }\n",
       "\n",
       "    .dataframe tbody tr th {\n",
       "        vertical-align: top;\n",
       "    }\n",
       "\n",
       "    .dataframe thead th {\n",
       "        text-align: right;\n",
       "    }\n",
       "</style>\n",
       "<table border=\"1\" class=\"dataframe\">\n",
       "  <thead>\n",
       "    <tr style=\"text-align: right;\">\n",
       "      <th></th>\n",
       "      <th>base_sample</th>\n",
       "      <th>lane</th>\n",
       "      <th>sample_name</th>\n",
       "      <th>log_mut_count</th>\n",
       "      <th>COSMIC_count</th>\n",
       "      <th>num_variants</th>\n",
       "      <th>filtration</th>\n",
       "    </tr>\n",
       "  </thead>\n",
       "  <tbody>\n",
       "    <tr>\n",
       "      <th>197</th>\n",
       "      <td>030-F5</td>\n",
       "      <td>L002</td>\n",
       "      <td>030-F5_S6_L002_001</td>\n",
       "      <td>3.34</td>\n",
       "      <td>33</td>\n",
       "      <td>filter_min_depth_count</td>\n",
       "      <td>2177</td>\n",
       "    </tr>\n",
       "    <tr>\n",
       "      <th>199</th>\n",
       "      <td>030-F5</td>\n",
       "      <td>L004</td>\n",
       "      <td>030-F5_S6_L004_001</td>\n",
       "      <td>3.35</td>\n",
       "      <td>21</td>\n",
       "      <td>filter_min_depth_count</td>\n",
       "      <td>2246</td>\n",
       "    </tr>\n",
       "    <tr>\n",
       "      <th>198</th>\n",
       "      <td>030-F5</td>\n",
       "      <td>L003</td>\n",
       "      <td>030-F5_S6_L003_001</td>\n",
       "      <td>3.36</td>\n",
       "      <td>29</td>\n",
       "      <td>filter_min_depth_count</td>\n",
       "      <td>2303</td>\n",
       "    </tr>\n",
       "  </tbody>\n",
       "</table>\n",
       "</div>"
      ],
      "text/plain": [
       "    base_sample  lane         sample_name  log_mut_count  COSMIC_count  \\\n",
       "197      030-F5  L002  030-F5_S6_L002_001           3.34            33   \n",
       "199      030-F5  L004  030-F5_S6_L004_001           3.35            21   \n",
       "198      030-F5  L003  030-F5_S6_L003_001           3.36            29   \n",
       "\n",
       "               num_variants  filtration  \n",
       "197  filter_min_depth_count        2177  \n",
       "199  filter_min_depth_count        2246  \n",
       "198  filter_min_depth_count        2303  "
      ]
     },
     "execution_count": 8,
     "metadata": {},
     "output_type": "execute_result"
    }
   ],
   "source": [
    "filter_melt_df = (\n",
    "    filter_counts_df.melt(id_vars=['base_sample', 'lane', 'sample_name',\n",
    "                                   'log_mut_count', 'COSMIC_count'],\n",
    "                          value_vars=['all_variant_count', 'filter_min_depth_count',\n",
    "                                      'filter_max_depth_count', 'filter_common_var_count',\n",
    "                                      'unknown_maf'],\n",
    "                          var_name='num_variants', value_name='filtration')\n",
    "    )\n",
    "# Max and Min depth is nearly the same, filter max\n",
    "filter_melt_df = filter_melt_df.query('num_variants != \"filter_max_depth_count\"')\n",
    "filter_melt_df = filter_melt_df.sort_values(by='filtration')\n",
    "filter_melt_df.head(3)"
   ]
  },
  {
   "cell_type": "markdown",
   "metadata": {},
   "source": [
    "### Visualize summary statistics across replicates"
   ]
  },
  {
   "cell_type": "code",
   "execution_count": 9,
   "metadata": {
    "collapsed": false
   },
   "outputs": [
    {
     "data": {
      "image/png": "[encoded data removed]",
      "text/plain": [
       "<matplotlib.figure.Figure at 0x7f5743ebb2e8>"
      ]
     },
     "metadata": {},
     "output_type": "display_data"
    },
    {
     "data": {
      "text/plain": [
       "<ggplot: (8750795644010)>"
      ]
     },
     "execution_count": 9,
     "metadata": {},
     "output_type": "execute_result"
    }
   ],
   "source": [
    "# Reorder plotting variables\n",
    "filter_list = ['all_variant_count', 'filter_common_var_count',\n",
    "               'unknown_maf', 'filter_min_depth_count']\n",
    "filter_list_cat = CategoricalDtype(categories=filter_list, ordered=True)\n",
    "filter_melt_df['num_variants_cat'] = (\n",
    "    filter_melt_df['num_variants'].astype(str).astype(filter_list_cat)\n",
    "    )\n",
    "\n",
    "p = (\n",
    "    gg.ggplot(filter_melt_df,\n",
    "              gg.aes(x='lane', y='filtration', fill='num_variants_cat')) +\n",
    "    gg.geom_bar(stat='identity', position='dodge') +\n",
    "    gg.facet_wrap('~ base_sample') +\n",
    "    gg.scale_fill_manual(name='Filtration Step',\n",
    "                         values=['#1b9e77', '#d95f02', '#7570b3', '#e7298a'],\n",
    "                         labels=['All Variants',\n",
    "                                 'Low Read Depth',\n",
    "                                 'Unknown MAF',\n",
    "                                 'Common Variants']) + \n",
    "    gg.xlab('Sample') +\n",
    "    gg.ylab('Final Number of Variants') +\n",
    "    gg.theme_bw() +\n",
    "    gg.theme(axis_text_x=gg.element_text(angle='90'),\n",
    "             axis_text=gg.element_text(size=8),\n",
    "             axis_title=gg.element_text(size=14))\n",
    "    )\n",
    "p"
   ]
  },
  {
   "cell_type": "code",
   "execution_count": 10,
   "metadata": {
    "collapsed": false
   },
   "outputs": [
    {
     "name": "stderr",
     "output_type": "stream",
     "text": [
      "/home/gway/anaconda3/lib/python3.5/site-packages/plotnine/ggplot.py:688: UserWarning: Saving 6.5 x 5.5 in image.\n",
      "  from_inches(height, units), units))\n",
      "/home/gway/anaconda3/lib/python3.5/site-packages/plotnine/ggplot.py:689: UserWarning: Filename: figures/replicates_filtration_results.pdf\n",
      "  warn('Filename: {}'.format(filename))\n"
     ]
    }
   ],
   "source": [
    "figure_file = os.path.join('figures', 'replicates_filtration_results.pdf')\n",
    "gg.ggsave(p, figure_file, height=5.5, width=6.5, dpi=500)"
   ]
  },
  {
   "cell_type": "code",
   "execution_count": 11,
   "metadata": {
    "collapsed": false
   },
   "outputs": [
    {
     "data": {
      "image/png": "[encoded data removed]",
      "text/plain": [
       "<matplotlib.figure.Figure at 0x7f57426dff98>"
      ]
     },
     "metadata": {},
     "output_type": "display_data"
    },
    {
     "data": {
      "text/plain": [
       "<ggplot: (-9223363286055969683)>"
      ]
     },
     "execution_count": 11,
     "metadata": {},
     "output_type": "execute_result"
    }
   ],
   "source": [
    "p = (\n",
    "    gg.ggplot(filter_counts_df,\n",
    "              gg.aes(x='lane', y='COSMIC_count', fill='filter_min_depth_count')) +\n",
    "    gg.geom_bar(stat='identity', position='dodge') +\n",
    "    gg.geom_text(gg.aes(y=10, label='log_mut_count'), size=5, colour='white') +\n",
    "    gg.scale_fill_gradient(low='blue', high='red', name='All Variants') + \n",
    "    gg.facet_wrap('~ base_sample') +\n",
    "    gg.xlab('Lane') +\n",
    "    gg.ylab('Number of COSMIC Variants') +\n",
    "    gg.theme_bw() +\n",
    "    gg.theme(axis_text_x=gg.element_text(angle='90'),\n",
    "             axis_text=gg.element_text(size=8),\n",
    "             axis_title=gg.element_text(size=14))\n",
    "    )\n",
    "p"
   ]
  },
  {
   "cell_type": "code",
   "execution_count": 12,
   "metadata": {
    "collapsed": false
   },
   "outputs": [
    {
     "name": "stderr",
     "output_type": "stream",
     "text": [
      "/home/gway/anaconda3/lib/python3.5/site-packages/plotnine/ggplot.py:688: UserWarning: Saving 6.5 x 5.5 in image.\n",
      "  from_inches(height, units), units))\n",
      "/home/gway/anaconda3/lib/python3.5/site-packages/plotnine/ggplot.py:689: UserWarning: Filename: figures/replicates_cosmic_mutcount_results.pdf\n",
      "  warn('Filename: {}'.format(filename))\n"
     ]
    }
   ],
   "source": [
    "figure_file = os.path.join('figures', 'replicates_cosmic_mutcount_results.pdf')\n",
    "gg.ggsave(p, figure_file, height=5.5, width=6.5, dpi=500)"
   ]
  },
  {
   "cell_type": "markdown",
   "metadata": {},
   "source": [
    "## Process Merged Files - These are the Final VCFs to Interpret"
   ]
  },
  {
   "cell_type": "code",
   "execution_count": 13,
   "metadata": {
    "collapsed": true
   },
   "outputs": [],
   "source": [
    "filter_common_maf = 0.05\n",
    "merged_filter_min_depth_count = 15\n",
    "merged_filter_max_depth_count = 1000"
   ]
  },
  {
   "cell_type": "code",
   "execution_count": 14,
   "metadata": {
    "collapsed": false
   },
   "outputs": [
    {
     "name": "stderr",
     "output_type": "stream",
     "text": [
      "/home/gway/anaconda3/lib/python3.5/site-packages/IPython/core/interactiveshell.py:2825: DtypeWarning: Columns (0) have mixed types. Specify dtype option on import or set low_memory=False.\n",
      "  if self.run_code(code, result):\n"
     ]
    }
   ],
   "source": [
    "# Process variant results\n",
    "variant_file_path = os.path.join('results', 'annotated_merged_vcfs')\n",
    "processed_file_path = os.path.join('results', 'processed_merged_vcfs')\n",
    "\n",
    "filter_info_all = []\n",
    "functional_counts_all = []\n",
    "mutational_counts_all = []\n",
    "depth_summary_all = []\n",
    "cosmic_dfs = []\n",
    "\n",
    "for variant_file in os.listdir(variant_file_path):\n",
    "    full_variant_file = os.path.join(variant_file_path, variant_file)\n",
    "\n",
    "    variant_info = process_variants(full_variant_file,\n",
    "                                    filter_min_depth=merged_filter_min_depth_count,\n",
    "                                    filter_max_depth=merged_filter_max_depth_count,\n",
    "                                    filter_common_maf=filter_common_maf)\n",
    "\n",
    "    variant_info.filter_common_variation()\n",
    "    variant_info.filter_depth()\n",
    "\n",
    "    func_count, mut_count, depth_summary = variant_info.get_summary_statistics()\n",
    "    filter_info_all.append(variant_info.curate_filter_info())\n",
    "    \n",
    "    functional_counts_all.append(func_count)\n",
    "    mutational_counts_all.append(mut_count)\n",
    "    depth_summary_all.append(depth_summary)\n",
    "    \n",
    "    fig_file = os.path.join('figures', 'read_depth',\n",
    "                            '{}_depth_distrib.pdf'.format(variant_info.sample_name))\n",
    "    variant_info.plot_depth()\n",
    "    plt.savefig(fig_file)\n",
    "    plt.close()\n",
    "    \n",
    "    # Save processed output file\n",
    "    variant_info.output_processed_data(out_dir=processed_file_path)\n",
    "    \n",
    "    # Build list of all cosmic variant dataframes\n",
    "    cosmic_dfs.append(variant_info.cosmic_variants)"
   ]
  },
  {
   "cell_type": "code",
   "execution_count": 15,
   "metadata": {
    "collapsed": true
   },
   "outputs": [],
   "source": [
    "# Save read depth summary results\n",
    "depth_output_file = os.path.join('results', 'merged_full_depth_summary.tsv')\n",
    "depth_df = pd.concat(depth_summary_all, axis=1).fillna(0).astype(int).T.sort_index()\n",
    "depth_df.to_csv(depth_output_file, sep='\\t')"
   ]
  },
  {
   "cell_type": "code",
   "execution_count": 16,
   "metadata": {
    "collapsed": true
   },
   "outputs": [],
   "source": [
    "# Save mutation count summary results\n",
    "mut_count_output_file = os.path.join('results', 'merged_full_mutation_count_summary.tsv')\n",
    "mutational_counts_df = (\n",
    "    pd.concat(mutational_counts_all, axis=1).fillna(0).astype(int).T.sort_index()\n",
    "    )\n",
    "mutational_counts_df.to_csv(mut_count_output_file, sep='\\t')"
   ]
  },
  {
   "cell_type": "code",
   "execution_count": 17,
   "metadata": {
    "collapsed": true
   },
   "outputs": [],
   "source": [
    "# Save functional genomics summary results\n",
    "func_count_output_file = os.path.join('results', 'merged_full_functional_count_summary.tsv')\n",
    "functional_counts_df = (\n",
    "    pd.concat(functional_counts_all, axis=1).fillna(0).astype(int).T.sort_index()\n",
    "    )\n",
    "functional_counts_df.to_csv(func_count_output_file, sep='\\t')"
   ]
  },
  {
   "cell_type": "code",
   "execution_count": 18,
   "metadata": {
    "collapsed": false
   },
   "outputs": [],
   "source": [
    "filter_count_output_file = os.path.join('results', 'merged_filter_summary.tsv')\n",
    "filter_counts_df = pd.DataFrame(filter_info_all,\n",
    "                                columns=['sample_name', 'all_variant_count',\n",
    "                                         'filter_min_depth_count', 'filter_max_depth_count',\n",
    "                                         'filter_common_var_count','log_mut_count',\n",
    "                                         'COSMIC_count', 'unknown_maf']).sort_values(by='sample_name')\n",
    "\n",
    "filter_counts_df['log_mut_count'] = round(filter_counts_df['log_mut_count'], 2)\n",
    "\n",
    "filter_counts_df.to_csv(filter_count_output_file, sep='\\t', index=False)"
   ]
  },
  {
   "cell_type": "code",
   "execution_count": 19,
   "metadata": {
    "collapsed": false
   },
   "outputs": [
    {
     "name": "stdout",
     "output_type": "stream",
     "text": [
      "(3120, 59)\n"
     ]
    }
   ],
   "source": [
    "# Generate a dataframe of all observed COSMIC variants\n",
    "cosmic_output_file = os.path.join('results', 'all_cosmic_variants.tsv')\n",
    "all_cosmic_dfs = pd.concat(cosmic_dfs, axis=0)\n",
    "print(all_cosmic_dfs.shape)\n",
    "all_cosmic_dfs.to_csv(cosmic_output_file, sep='\\t', index=False)"
   ]
  },
  {
   "cell_type": "code",
   "execution_count": 20,
   "metadata": {
    "collapsed": false
   },
   "outputs": [
    {
     "data": {
      "text/html": [
       "<div>\n",
       "<style scoped>\n",
       "    .dataframe tbody tr th:only-of-type {\n",
       "        vertical-align: middle;\n",
       "    }\n",
       "\n",
       "    .dataframe tbody tr th {\n",
       "        vertical-align: top;\n",
       "    }\n",
       "\n",
       "    .dataframe thead th {\n",
       "        text-align: right;\n",
       "    }\n",
       "</style>\n",
       "<table border=\"1\" class=\"dataframe\">\n",
       "  <thead>\n",
       "    <tr style=\"text-align: right;\">\n",
       "      <th></th>\n",
       "      <th>sample_name</th>\n",
       "      <th>log_mut_count</th>\n",
       "      <th>COSMIC_count</th>\n",
       "      <th>num_variants</th>\n",
       "      <th>filtration</th>\n",
       "    </tr>\n",
       "  </thead>\n",
       "  <tbody>\n",
       "    <tr>\n",
       "      <th>49</th>\n",
       "      <td>030-F5</td>\n",
       "      <td>3.88</td>\n",
       "      <td>80</td>\n",
       "      <td>filter_min_depth_count</td>\n",
       "      <td>7661</td>\n",
       "    </tr>\n",
       "    <tr>\n",
       "      <th>52</th>\n",
       "      <td>040-F0</td>\n",
       "      <td>4.08</td>\n",
       "      <td>78</td>\n",
       "      <td>filter_min_depth_count</td>\n",
       "      <td>12110</td>\n",
       "    </tr>\n",
       "    <tr>\n",
       "      <th>48</th>\n",
       "      <td>030-F0</td>\n",
       "      <td>4.12</td>\n",
       "      <td>81</td>\n",
       "      <td>filter_min_depth_count</td>\n",
       "      <td>13252</td>\n",
       "    </tr>\n",
       "    <tr>\n",
       "      <th>44</th>\n",
       "      <td>019-F0</td>\n",
       "      <td>4.18</td>\n",
       "      <td>99</td>\n",
       "      <td>filter_min_depth_count</td>\n",
       "      <td>14971</td>\n",
       "    </tr>\n",
       "    <tr>\n",
       "      <th>32</th>\n",
       "      <td>004-F0</td>\n",
       "      <td>4.19</td>\n",
       "      <td>88</td>\n",
       "      <td>filter_min_depth_count</td>\n",
       "      <td>15441</td>\n",
       "    </tr>\n",
       "  </tbody>\n",
       "</table>\n",
       "</div>"
      ],
      "text/plain": [
       "   sample_name  log_mut_count  COSMIC_count            num_variants  \\\n",
       "49      030-F5           3.88            80  filter_min_depth_count   \n",
       "52      040-F0           4.08            78  filter_min_depth_count   \n",
       "48      030-F0           4.12            81  filter_min_depth_count   \n",
       "44      019-F0           4.18            99  filter_min_depth_count   \n",
       "32      004-F0           4.19            88  filter_min_depth_count   \n",
       "\n",
       "    filtration  \n",
       "49        7661  \n",
       "52       12110  \n",
       "48       13252  \n",
       "44       14971  \n",
       "32       15441  "
      ]
     },
     "execution_count": 20,
     "metadata": {},
     "output_type": "execute_result"
    }
   ],
   "source": [
    "filter_melt_df = (\n",
    "    filter_counts_df.melt(id_vars=['sample_name',\n",
    "                                   'log_mut_count', 'COSMIC_count'],\n",
    "                          value_vars=['all_variant_count', 'filter_min_depth_count',\n",
    "                                      'filter_max_depth_count', 'filter_common_var_count',\n",
    "                                      'unknown_maf'],\n",
    "                          var_name='num_variants', value_name='filtration')\n",
    "    )\n",
    "\n",
    "# Max and Min depth is nearly the same, filter max\n",
    "filter_melt_df = filter_melt_df.query('num_variants != \"filter_max_depth_count\"')\n",
    "filter_melt_df = filter_melt_df.sort_values(by='filtration')\n",
    "filter_melt_df.head()"
   ]
  },
  {
   "cell_type": "markdown",
   "metadata": {},
   "source": [
    "### Visualize summary statistics for merged data"
   ]
  },
  {
   "cell_type": "code",
   "execution_count": 21,
   "metadata": {
    "collapsed": false
   },
   "outputs": [
    {
     "data": {
      "image/png": "[encoded data removed]",
      "text/plain": [
       "<matplotlib.figure.Figure at 0x7f573e9e3208>"
      ]
     },
     "metadata": {},
     "output_type": "display_data"
    },
    {
     "data": {
      "text/plain": [
       "<ggplot: (8750794563385)>"
      ]
     },
     "execution_count": 21,
     "metadata": {},
     "output_type": "execute_result"
    }
   ],
   "source": [
    "# Reorder Plotting Variables\n",
    "filter_list = ['all_variant_count', 'filter_common_var_count',\n",
    "               'unknown_maf', 'filter_min_depth_count']\n",
    "filter_list_cat = CategoricalDtype(categories=filter_list, ordered=True)\n",
    "filter_melt_df['num_variants_cat'] = (\n",
    "    filter_melt_df['num_variants'].astype(str).astype(filter_list_cat)\n",
    "    )\n",
    "\n",
    "p = (\n",
    "    gg.ggplot(filter_melt_df,\n",
    "              gg.aes(x='sample_name', y='filtration', fill='num_variants_cat')) +\n",
    "    gg.geom_bar(stat='identity', position='dodge') +\n",
    "    gg.theme_bw() +\n",
    "    gg.scale_fill_manual(name='Filtration Step',\n",
    "                         values=['#1b9e77', '#d95f02', '#7570b3', '#e7298a'],\n",
    "                         labels=['All Variants',\n",
    "                                 'Low Read Depth',\n",
    "                                 'Unknown MAF',\n",
    "                                 'Common Variants']) + \n",
    "    gg.xlab('Sample') +\n",
    "    gg.ylab('Final Number of Variants') +\n",
    "    gg.theme(axis_text_x=gg.element_text(angle='90'),\n",
    "             axis_text=gg.element_text(size=8),\n",
    "             axis_title=gg.element_text(size=14))\n",
    "    )\n",
    "p"
   ]
  },
  {
   "cell_type": "code",
   "execution_count": 22,
   "metadata": {
    "collapsed": false
   },
   "outputs": [
    {
     "name": "stderr",
     "output_type": "stream",
     "text": [
      "/home/gway/anaconda3/lib/python3.5/site-packages/plotnine/ggplot.py:688: UserWarning: Saving 6.5 x 5.5 in image.\n",
      "  from_inches(height, units), units))\n",
      "/home/gway/anaconda3/lib/python3.5/site-packages/plotnine/ggplot.py:689: UserWarning: Filename: figures/merged_filtration_results.pdf\n",
      "  warn('Filename: {}'.format(filename))\n"
     ]
    }
   ],
   "source": [
    "figure_file = os.path.join('figures', 'merged_filtration_results.pdf')\n",
    "gg.ggsave(p, figure_file, height=5.5, width=6.5, dpi=500)"
   ]
  },
  {
   "cell_type": "code",
   "execution_count": 23,
   "metadata": {
    "collapsed": false
   },
   "outputs": [
    {
     "data": {
      "image/png": "[encoded data removed]",
      "text/plain": [
       "<matplotlib.figure.Figure at 0x7f57444df710>"
      ]
     },
     "metadata": {},
     "output_type": "display_data"
    },
    {
     "data": {
      "text/plain": [
       "<ggplot: (8750795804087)>"
      ]
     },
     "execution_count": 23,
     "metadata": {},
     "output_type": "execute_result"
    }
   ],
   "source": [
    "p = (\n",
    "    gg.ggplot(filter_counts_df,\n",
    "              gg.aes(x='sample_name', y='COSMIC_count', fill='filter_min_depth_count')) +\n",
    "    gg.geom_bar(stat='identity', position='dodge') +\n",
    "    # Note that the log mut count represents log10(total mutation count) in each sample\n",
    "    gg.geom_text(gg.aes(y=45, label='log_mut_count', angle=90), size=9, colour='white') +\n",
    "    gg.scale_fill_gradient(low='blue', high='red', name='All Variants') + \n",
    "    gg.xlab('Sample') +\n",
    "    gg.ylab('Number of COSMIC Variants') +\n",
    "    gg.theme_bw() +\n",
    "    gg.theme(axis_text_x=gg.element_text(angle='90'),\n",
    "             axis_text=gg.element_text(size=8),\n",
    "             axis_title=gg.element_text(size=14))\n",
    "    )\n",
    "p"
   ]
  },
  {
   "cell_type": "code",
   "execution_count": 24,
   "metadata": {
    "collapsed": false
   },
   "outputs": [
    {
     "name": "stderr",
     "output_type": "stream",
     "text": [
      "/home/gway/anaconda3/lib/python3.5/site-packages/plotnine/ggplot.py:688: UserWarning: Saving 6.5 x 5.5 in image.\n",
      "  from_inches(height, units), units))\n",
      "/home/gway/anaconda3/lib/python3.5/site-packages/plotnine/ggplot.py:689: UserWarning: Filename: figures/merged_cosmic_mutcount_results.pdf\n",
      "  warn('Filename: {}'.format(filename))\n"
     ]
    }
   ],
   "source": [
    "figure_file = os.path.join('figures', 'merged_cosmic_mutcount_results.pdf')\n",
    "gg.ggsave(p, figure_file, height=5.5, width=6.5, dpi=500)"
   ]
  }
 ],
 "metadata": {
  "kernelspec": {
   "display_name": "Python [default]",
   "language": "python",
   "name": "python3"
  },
  "language_info": {
   "codemirror_mode": {
    "name": "ipython",
    "version": 3
   },
   "file_extension": ".py",
   "mimetype": "text/x-python",
   "name": "python",
   "nbconvert_exporter": "python",
   "pygments_lexer": "ipython3",
   "version": "3.5.2"
  }
 },
 "nbformat": 4,
 "nbformat_minor": 2
}
