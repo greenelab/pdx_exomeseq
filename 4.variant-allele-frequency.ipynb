{
 "cells": [
  {
   "cell_type": "markdown",
   "metadata": {},
   "source": [
    "# Exploring annotated variants across tumor samples\n",
    "\n",
    "The script will output visualizations exploring the relationship between deleterious predictions (SIFT scores) and population allele frequency (gnomAD minor allele frequency).\n",
    "\n",
    "There are two sets of figures visualized.\n",
    "\n",
    "1. SIFT/gnomAD across four technical replicates for all samples\n",
    "2. SIFT/gnomAD for concatenated samples pre- and post filtration (filtered common variation and low read depth)"
   ]
  },
  {
   "cell_type": "code",
   "execution_count": 1,
   "metadata": {},
   "outputs": [],
   "source": [
    "import os\n",
    "import pandas as pd\n",
    "\n",
    "import matplotlib.pyplot as plt\n",
    "import seaborn as sns"
   ]
  },
  {
   "cell_type": "code",
   "execution_count": 2,
   "metadata": {},
   "outputs": [],
   "source": [
    "%matplotlib inline\n",
    "plt.style.use('seaborn-notebook')"
   ]
  },
  {
   "cell_type": "code",
   "execution_count": 3,
   "metadata": {},
   "outputs": [
    {
     "data": {
      "text/html": [
       "<div>\n",
       "<style scoped>\n",
       "    .dataframe tbody tr th:only-of-type {\n",
       "        vertical-align: middle;\n",
       "    }\n",
       "\n",
       "    .dataframe tbody tr th {\n",
       "        vertical-align: top;\n",
       "    }\n",
       "\n",
       "    .dataframe thead th {\n",
       "        text-align: right;\n",
       "    }\n",
       "</style>\n",
       "<table border=\"1\" class=\"dataframe\">\n",
       "  <thead>\n",
       "    <tr style=\"text-align: right;\">\n",
       "      <th></th>\n",
       "      <th>sample</th>\n",
       "      <th>final_id</th>\n",
       "      <th>patient_id</th>\n",
       "      <th>sample_name</th>\n",
       "      <th>pt</th>\n",
       "      <th>pool</th>\n",
       "      <th>read_id</th>\n",
       "      <th>wes_id</th>\n",
       "      <th>extract</th>\n",
       "      <th>location</th>\n",
       "      <th>passage</th>\n",
       "      <th>tumor</th>\n",
       "      <th>date</th>\n",
       "      <th>ln2</th>\n",
       "      <th>rna</th>\n",
       "      <th>pedigree</th>\n",
       "    </tr>\n",
       "  </thead>\n",
       "  <tbody>\n",
       "    <tr>\n",
       "      <th>0</th>\n",
       "      <td>KS1</td>\n",
       "      <td>001-F0</td>\n",
       "      <td>1</td>\n",
       "      <td>001-F0</td>\n",
       "      <td>1</td>\n",
       "      <td>2</td>\n",
       "      <td>001-F0_S3_L001_R1_001</td>\n",
       "      <td>001-F0_S3_L001_001</td>\n",
       "      <td>FNA</td>\n",
       "      <td>NaN</td>\n",
       "      <td>F0</td>\n",
       "      <td>F0-R-2464</td>\n",
       "      <td>5.2.12</td>\n",
       "      <td>1.0</td>\n",
       "      <td>0.0</td>\n",
       "      <td>1.0</td>\n",
       "    </tr>\n",
       "    <tr>\n",
       "      <th>1</th>\n",
       "      <td>KS1</td>\n",
       "      <td>001-F0</td>\n",
       "      <td>1</td>\n",
       "      <td>001-F0</td>\n",
       "      <td>1</td>\n",
       "      <td>2</td>\n",
       "      <td>001-F0_S3_L001_R2_001</td>\n",
       "      <td>001-F0_S3_L001_001</td>\n",
       "      <td>FNA</td>\n",
       "      <td>NaN</td>\n",
       "      <td>F0</td>\n",
       "      <td>F0-R-2464</td>\n",
       "      <td>5.2.12</td>\n",
       "      <td>1.0</td>\n",
       "      <td>0.0</td>\n",
       "      <td>1.0</td>\n",
       "    </tr>\n",
       "  </tbody>\n",
       "</table>\n",
       "</div>"
      ],
      "text/plain": [
       "  sample final_id  patient_id sample_name  pt  pool                read_id  \\\n",
       "0    KS1   001-F0           1      001-F0   1     2  001-F0_S3_L001_R1_001   \n",
       "1    KS1   001-F0           1      001-F0   1     2  001-F0_S3_L001_R2_001   \n",
       "\n",
       "               wes_id extract location passage      tumor    date  ln2  rna  \\\n",
       "0  001-F0_S3_L001_001     FNA      NaN      F0  F0-R-2464  5.2.12  1.0  0.0   \n",
       "1  001-F0_S3_L001_001     FNA      NaN      F0  F0-R-2464  5.2.12  1.0  0.0   \n",
       "\n",
       "   pedigree  \n",
       "0       1.0  \n",
       "1       1.0  "
      ]
     },
     "execution_count": 3,
     "metadata": {},
     "output_type": "execute_result"
    }
   ],
   "source": [
    "# Load Phenotype Data\n",
    "file = 'pdx_phenotype.csv'\n",
    "pheno_df = pd.read_table(file, sep=',')\n",
    "pheno_df.head(2)"
   ]
  },
  {
   "cell_type": "code",
   "execution_count": 4,
   "metadata": {},
   "outputs": [
    {
     "data": {
      "text/plain": [
       "{'001-F0': '001-F0',\n",
       " '001-F5': '001-F5',\n",
       " '004-F0': '004-M-F0',\n",
       " '004-F5': '004-M-F5',\n",
       " '004-primary': '004-M',\n",
       " '005-F0': '005-M-F0',\n",
       " '005-F5': '005-M-F5',\n",
       " '005-primary': '005-M',\n",
       " '006-F0': '006-F0',\n",
       " '006-F5': '006-F5',\n",
       " '008-F0': '008-F0',\n",
       " '008-F5': '008-F5',\n",
       " '018-F0': '008-M1-F0',\n",
       " '018-F5': '008-M1-F5',\n",
       " '019-F0': '008-M2-F0',\n",
       " '019-F5': '008-M2-F5',\n",
       " '029-F0': '029-F0',\n",
       " '029-F5': '029-F5',\n",
       " '030-F0': '030-F0',\n",
       " '030-F5': '030-F5',\n",
       " '032-F0': '032-F0',\n",
       " '032-F5': '032-F5',\n",
       " '040-F0': '040-F0',\n",
       " '040-F5': '040-F5',\n",
       " 'KS25': '008-ORTH-M',\n",
       " 'KS26': '008-ORTH',\n",
       " 'KS27': '048-F0',\n",
       " 'KS28': '048-F5',\n",
       " 'KS29': '048-M1-F0',\n",
       " 'KS30': '048-M1-F5'}"
      ]
     },
     "execution_count": 4,
     "metadata": {},
     "output_type": "execute_result"
    }
   ],
   "source": [
    "id_updater = dict(zip([x[0] for x in pheno_df.read_id.str.split('_')],\n",
    "                      pheno_df.final_id))\n",
    "id_updater"
   ]
  },
  {
   "cell_type": "markdown",
   "metadata": {},
   "source": [
    "## Across four technical replicates"
   ]
  },
  {
   "cell_type": "code",
   "execution_count": 5,
   "metadata": {},
   "outputs": [
    {
     "name": "stderr",
     "output_type": "stream",
     "text": [
      "/home/gway/anaconda3/envs/pdx-exomeseq-analysis/lib/python3.5/site-packages/IPython/core/interactiveshell.py:2728: DtypeWarning: Columns (0) have mixed types. Specify dtype option on import or set low_memory=False.\n",
      "  interactivity=interactivity, compiler=compiler, result=result)\n",
      "/home/gway/anaconda3/envs/pdx-exomeseq-analysis/lib/python3.5/site-packages/matplotlib/contour.py:967: UserWarning: The following kwargs were not used by contour: 'color'\n",
      "  s)\n"
     ]
    }
   ],
   "source": [
    "# Plot per replicate variants gnomAD vs. SIFT scores\n",
    "for unique_sample in id_updater.keys():\n",
    "    \n",
    "    # Update sample name for publication\n",
    "    final_id = id_updater[unique_sample]\n",
    "    \n",
    "    pheno_subset_df = pheno_df.query('final_id == @final_id')\n",
    "    \n",
    "    # generate filenames for each unique sample\n",
    "    fig_name = os.path.join('figures', 'sift_gnomad', 'replicates',\n",
    "                            '{}_sift_gnomad_kde.pdf'.format(final_id))\n",
    "    multi_plots = []\n",
    "    for wes_id in set(pheno_subset_df['wes_id']):\n",
    "        variant_file = os.path.join('results', 'annotated_vcfs',\n",
    "                                    '{}.annotated.hg19_multianno.csv'.format(wes_id))\n",
    "        \n",
    "        variant_df = pd.read_csv(variant_file)\n",
    "        variant_df = variant_df.assign(replicate = wes_id)\n",
    "\n",
    "        # Subset variants\n",
    "        filtered_variant_df = variant_df.query('SIFT_score != \".\"')\n",
    "        filtered_variant_df = filtered_variant_df.query('gnomAD_exome_ALL != \".\"')\n",
    "        multi_plots.append(filtered_variant_df)\n",
    "        \n",
    "    sample_results = pd.concat(multi_plots)\n",
    "    g = sns.FacetGrid(sample_results, col='replicate', col_wrap=2)\n",
    "    g = (g.map(sns.kdeplot, 'SIFT_score', 'gnomAD_exome_ALL', shade=True)\n",
    "         .set_titles(\"{col_name}\"))\n",
    "    plt.subplots_adjust(top=0.9)\n",
    "    g.fig.suptitle('{} SIFT/gnomAD distributions'.format(final_id))\n",
    "    plt.savefig(fig_name)\n",
    "    plt.close()"
   ]
  },
  {
   "cell_type": "markdown",
   "metadata": {},
   "source": [
    "## Pre- and post filtering of concatenated samples"
   ]
  },
  {
   "cell_type": "code",
   "execution_count": 6,
   "metadata": {},
   "outputs": [
    {
     "name": "stderr",
     "output_type": "stream",
     "text": [
      "/home/gway/anaconda3/envs/pdx-exomeseq-analysis/lib/python3.5/site-packages/IPython/core/interactiveshell.py:2728: DtypeWarning: Columns (0) have mixed types. Specify dtype option on import or set low_memory=False.\n",
      "  interactivity=interactivity, compiler=compiler, result=result)\n",
      "/home/gway/anaconda3/envs/pdx-exomeseq-analysis/lib/python3.5/site-packages/matplotlib/contour.py:967: UserWarning: The following kwargs were not used by contour: 'color'\n",
      "  s)\n",
      "/home/gway/anaconda3/envs/pdx-exomeseq-analysis/lib/python3.5/site-packages/IPython/core/interactiveshell.py:2728: DtypeWarning: Columns (1) have mixed types. Specify dtype option on import or set low_memory=False.\n",
      "  interactivity=interactivity, compiler=compiler, result=result)\n"
     ]
    }
   ],
   "source": [
    "# Plot concatenated variants gnomAD vs. SIFT scores\n",
    "for unique_sample in id_updater.keys():\n",
    "\n",
    "    # Update sample name for publication\n",
    "    final_id = id_updater[unique_sample]\n",
    "\n",
    "    # generate filenames for each unique sample\n",
    "    fig_name = os.path.join('figures', 'sift_gnomad',\n",
    "                            'merged_{}_sift_gnomad_kde.pdf'.format(final_id))\n",
    "\n",
    "    # Read in file\n",
    "    variant_file = os.path.join('results', 'annotated_merged_vcfs',\n",
    "                                '{}.annotated.hg19_multianno.csv'.format(unique_sample))\n",
    "    variant_df = pd.read_csv(variant_file)\n",
    "\n",
    "    processed_variant_file = os.path.join('results', 'processed_merged_vcfs',\n",
    "                                '{}_processed_variants.tsv.bz2'.format(final_id))\n",
    "    processed_variant_df = pd.read_table(processed_variant_file)\n",
    "\n",
    "    # Subset variants\n",
    "    filtered_variant_df = variant_df.query('SIFT_score != \".\"')\n",
    "    filtered_variant_df = filtered_variant_df.query('gnomAD_exome_ALL != \".\"')\n",
    "    filtered_variant_df = filtered_variant_df.assign(variant_type='unfiltered')\n",
    "\n",
    "    processed_variant_df = processed_variant_df.query('SIFT_score != \".\"')\n",
    "    processed_variant_df = processed_variant_df.query('gnomAD_exome_ALL != \".\"')\n",
    "    processed_variant_df = processed_variant_df.assign(variant_type='processed')\n",
    "    \n",
    "    variant_full_df = pd.concat([filtered_variant_df, processed_variant_df], axis=0)\n",
    "\n",
    "    g = sns.FacetGrid(variant_full_df, col='variant_type', col_wrap=2, sharey=False)\n",
    "    g = (g.map(sns.kdeplot, 'SIFT_score', 'gnomAD_exome_ALL', shade=True)\n",
    "         .set_titles(\"{col_name}\"))\n",
    "    g.axes[0].set_xlabel(\"SIFT score\")\n",
    "    g.axes[0].set_ylabel(\"gnomAD Minor Allele Freq\")\n",
    "    g.axes[1].set_xlabel(\"SIFT score\")\n",
    "    plt.subplots_adjust(top=0.8)\n",
    "\n",
    "    g.fig.suptitle('{} SIFT/gnomAD distributions'.format(final_id))\n",
    "    plt.savefig(fig_name)\n",
    "    plt.close()"
   ]
  }
 ],
 "metadata": {
  "kernelspec": {
   "display_name": "Python [conda env:pdx-exomeseq-analysis]",
   "language": "python",
   "name": "conda-env-pdx-exomeseq-analysis-py"
  },
  "language_info": {
   "codemirror_mode": {
    "name": "ipython",
    "version": 3
   },
   "file_extension": ".py",
   "mimetype": "text/x-python",
   "name": "python",
   "nbconvert_exporter": "python",
   "pygments_lexer": "ipython3",
   "version": "3.5.5"
  }
 },
 "nbformat": 4,
 "nbformat_minor": 2
}
